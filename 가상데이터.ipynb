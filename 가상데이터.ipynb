{
 "cells": [
  {
   "cell_type": "code",
   "execution_count": 1,
   "id": "d1553f0f",
   "metadata": {},
   "outputs": [],
   "source": [
    "import pandas as pd\n",
    "import numpy as np\n",
    "from faker import Faker\n",
    "import random\n",
    "from datetime import datetime, timedelta"
   ]
  },
  {
   "cell_type": "code",
   "execution_count": 2,
   "id": "aab4d9ae",
   "metadata": {},
   "outputs": [
    {
     "name": "stdout",
     "output_type": "stream",
     "text": [
      "200개의 더미 데이터를 생성합니다...\n"
     ]
    }
   ],
   "source": [
    "\n",
    "# 0. 기본 설정\n",
    "N = 200  # 우리가 만들 데이터 개수\n",
    "fake = Faker('ko_KR') # 한국어 기반 가짜 데이터 생성\n",
    "\n",
    "print(f\"{N}개의 더미 데이터를 생성합니다...\")"
   ]
  },
  {
   "cell_type": "code",
   "execution_count": 3,
   "id": "89e07fa0",
   "metadata": {},
   "outputs": [
    {
     "name": "stdout",
     "output_type": "stream",
     "text": [
      "1. Product_Master 생성 중...\n"
     ]
    }
   ],
   "source": [
    "# --- 1. Product_Master (제품 마스터) ---\n",
    "# 제품은 마스터 정보이므로, N개(200개)보다는 적은 게 현실적이지만,\n",
    "# 연습을 위해 N개로 만듭니다.\n",
    "print(\"1. Product_Master 생성 중...\")\n",
    "product_categories = ['세럼', '미스트', '크림', '선케어', '클렌저']\n",
    "products = {\n",
    "    'product_id': [f'dalba-prod-{i:03d}' for i in range(1, N + 1)],\n",
    "    'product_name': [f'달바 {random.choice(product_categories)} {i}호' for i in range(1, N + 1)],\n",
    "    'category': [random.choice(product_categories) for _ in range(N)],\n",
    "    'price': np.random.randint(25000, 80000, N) // 100 * 100 # 100원 단위로\n",
    "}\n",
    "df_products = pd.DataFrame(products)\n",
    "# 생성된 ID 리스트를 나중에 외래 키(FK)로 쓰기 위해 저장\n",
    "product_id_list = df_products['product_id'].tolist()\n",
    "\n"
   ]
  },
  {
   "cell_type": "code",
   "execution_count": 4,
   "id": "cc2ec281",
   "metadata": {},
   "outputs": [
    {
     "name": "stdout",
     "output_type": "stream",
     "text": [
      "2. Influencer_Master 생성 중...\n"
     ]
    }
   ],
   "source": [
    "# --- 2. Influencer_Master (인플루언서 마스터) ---\n",
    "print(\"2. Influencer_Master 생성 중...\")\n",
    "platforms = ['Instagram', 'YouTube', 'TikTok']\n",
    "inf_categories = ['뷰티', '라이프스타일', '패션', '여행', '푸드']\n",
    "\n",
    "influencers = {\n",
    "    'inf_id': [f'{fake.user_name()}_{random.choice(platforms).lower()}' for _ in range(N)],\n",
    "    'inf_name': [fake.name() for _ in range(N)],\n",
    "    'platform': [random.choice(platforms) for _ in range(N)],\n",
    "    'follower_count': np.random.randint(5000, 1500000, N), # 팔로워 5천~150만\n",
    "    'avg_engagement_rate': np.round(np.random.uniform(0.005, 0.15, N), 4), # 참여율 0.5% ~ 15%\n",
    "    'main_category': [random.choice(inf_categories) for _ in range(N)],\n",
    "    'estimated_cost_per_post': np.random.randint(50000, 10000000, N) // 10000 * 10000, # 1만원 단위\n",
    "    'genai_brand_fit_score': np.round(np.random.uniform(1.0, 5.0, N), 1), # 1.0 ~ 5.0\n",
    "    'genai_brand_fit_reason': [f\"{random.choice(['고급진', '영한', '전문적인', '클린한'])} 이미지. {random.choice(['타겟 부합', '콘텐츠 퀄리티 우수', '최근 평판 좋음'])}.\" for _ in range(N)]\n",
    "}\n",
    "df_influencers = pd.DataFrame(influencers)\n",
    "# 생성된 ID 리스트를 나중에 외래 키(FK)로 쓰기 위해 저장\n",
    "inf_id_list = df_influencers['inf_id'].tolist()\n"
   ]
  },
  {
   "cell_type": "code",
   "execution_count": 5,
   "id": "7bc9175f",
   "metadata": {},
   "outputs": [
    {
     "name": "stdout",
     "output_type": "stream",
     "text": [
      "3. Campaign_Master 생성 중...\n"
     ]
    }
   ],
   "source": [
    "# --- 3. Campaign_Master (캠페인 마스터) ---\n",
    "print(\"3. Campaign_Master 생성 중...\")\n",
    "campaigns = {\n",
    "    'campaign_id': [f'DALBA-CAMP-{i:03d}' for i in range(1, N + 1)],\n",
    "    'campaign_name': [f'2025년 {i%4+1}분기 {random.choice(product_categories)} 런칭' for i in range(1, N + 1)],\n",
    "    'product_id': [random.choice(product_id_list) for _ in range(N)], # [중요] 1번 테이블의 product_id에서 가져옴\n",
    "    'start_date': [fake.date_between(start_date='-1y', end_date='today') for _ in range(N)],\n",
    "    'total_budget': np.random.randint(10000000, 500000000, N) // 100000 * 100000\n",
    "}\n",
    "# 시작일로부터 30~90일 뒤를 종료일로 설정\n",
    "df_campaigns = pd.DataFrame(campaigns)\n",
    "df_campaigns['end_date'] = df_campaigns['start_date'].apply(lambda x: x + timedelta(days=random.randint(30, 90)))\n",
    "# 생성된 ID 리스트를 나중에 외래 키(FK)로 쓰기 위해 저장\n",
    "campaign_id_list = df_campaigns['campaign_id'].tolist()\n"
   ]
  },
  {
   "cell_type": "code",
   "execution_count": null,
   "id": "42e61ac8",
   "metadata": {},
   "outputs": [
    {
     "name": "stdout",
     "output_type": "stream",
     "text": [
      "4. Campaign_Performance 생성 중...\n",
      "\n",
      "--- 모든 데이터 생성 완료! ---\n",
      "\n",
      "[Product_Master 샘플]\n",
      "       product_id product_name category  price\n",
      "0  dalba-prod-001    달바 미스트 1호       크림  31900\n",
      "1  dalba-prod-002     달바 크림 2호       세럼  28800\n",
      "2  dalba-prod-003    달바 미스트 3호      클렌저  37300\n",
      "3  dalba-prod-004     달바 세럼 4호      선케어  31100\n",
      "4  dalba-prod-005     달바 크림 5호       세럼  64000\n",
      "\n",
      "[Influencer_Master 샘플]\n",
      "                inf_id inf_name   platform  follower_count  \\\n",
      "0   minseo53_instagram      김예진  Instagram          836940   \n",
      "1    oeunjeong_youtube      이민준     TikTok           18712   \n",
      "2       ggim_instagram      김정호  Instagram          914622   \n",
      "3  eunyeongbag_youtube      김병철     TikTok         1020782   \n",
      "4  yeonghyii_instagram      이승현    YouTube          835698   \n",
      "\n",
      "   avg_engagement_rate main_category  estimated_cost_per_post  \\\n",
      "0               0.1397            푸드                  3050000   \n",
      "1               0.0855            뷰티                  2980000   \n",
      "2               0.1312            여행                  9550000   \n",
      "3               0.1460        라이프스타일                  4530000   \n",
      "4               0.0512            여행                  4530000   \n",
      "\n",
      "   genai_brand_fit_score genai_brand_fit_reason  \n",
      "0                    3.8  전문적인 이미지. 콘텐츠 퀄리티 우수.  \n",
      "1                    3.8    영한 이미지. 콘텐츠 퀄리티 우수.  \n",
      "2                    4.2        클린한 이미지. 타겟 부합.  \n",
      "3                    1.5   고급진 이미지. 콘텐츠 퀄리티 우수.  \n",
      "4                    1.8    영한 이미지. 콘텐츠 퀄리티 우수.  \n",
      "\n",
      "[Campaign_Master 샘플]\n",
      "      campaign_id     campaign_name      product_id  start_date  total_budget  \\\n",
      "0  DALBA-CAMP-001  2025년 2분기 클렌저 런칭  dalba-prod-189  2025-02-24     176100000   \n",
      "1  DALBA-CAMP-002   2025년 3분기 크림 런칭  dalba-prod-101  2025-10-21     183500000   \n",
      "2  DALBA-CAMP-003  2025년 4분기 미스트 런칭  dalba-prod-082  2025-09-21     241000000   \n",
      "3  DALBA-CAMP-004  2025년 1분기 선케어 런칭  dalba-prod-067  2025-01-08     109600000   \n",
      "4  DALBA-CAMP-005   2025년 2분기 세럼 런칭  dalba-prod-059  2025-05-22     427200000   \n",
      "\n",
      "     end_date  \n",
      "0  2025-04-07  \n",
      "1  2025-12-26  \n",
      "2  2025-12-17  \n",
      "3  2025-03-12  \n",
      "4  2025-07-13  \n",
      "\n",
      "[Campaign_Performance 샘플]\n",
      "   perf_id     campaign_id                 inf_id   post_date  \\\n",
      "0        1  DALBA-CAMP-148  yeonghwan48_instagram  2025-10-28   \n",
      "1        2  DALBA-CAMP-013        yujin08_youtube  2025-10-28   \n",
      "2        3  DALBA-CAMP-073   yeongsig97_instagram  2025-10-28   \n",
      "3        4  DALBA-CAMP-174     baejinho_instagram  2025-10-28   \n",
      "4        5  DALBA-CAMP-115    dohyeon17_instagram  2025-10-28   \n",
      "\n",
      "                              post_url  actual_cost  impressions  clicks  \\\n",
      "0  https://instagram.com/p/$btUWA*E3(1       731789        22275     482   \n",
      "1  https://instagram.com/p/s##1iWt(!8C      2724955       151915    2934   \n",
      "2  https://instagram.com/p/vsg)0TYmJ&L      2993878       166948    4167   \n",
      "3  https://instagram.com/p/W$3TV#wySeB        76182         5012     161   \n",
      "4  https://instagram.com/p/*iONR3lRv8m      4985582       287154    6019   \n",
      "\n",
      "   conversions  revenue     genai_comment_summary  \n",
      "0            7   230762  긍정 91%. '흡수력' 키워드 언급 다수.  \n",
      "1           41  2369554   긍정 85%. '향기' 키워드 언급 다수.  \n",
      "2           42  2356956   긍정 95%. '광채' 키워드 언급 다수.  \n",
      "3            4   129576  긍정 90%. '패키징' 키워드 언급 다수.  \n",
      "4          143  5860283   긍정 87%. '광채' 키워드 언급 다수.  \n"
     ]
    }
   ],
   "source": [
    "# --- 4. Campaign_Performance (캠페인 성과) ---\n",
    "# 가장 중요한 '거래 내역' 테이블.\n",
    "print(\"4. Campaign_Performance 생성 중...\")\n",
    "performances = []\n",
    "for i in range(N):\n",
    "    # 실제 성과 데이터는 훨씬 더 현실적인 로직이 필요함\n",
    "    # (예: 캠페인 기간 내에 포스팅 날짜가 찍히도록)\n",
    "    \n",
    "    # 지금은 MVP를 위해 랜덤하게 생성\n",
    "    chosen_inf_id = random.choice(inf_id_list)\n",
    "    chosen_camp_id = random.choice(campaign_id_list)\n",
    "    \n",
    "    # 현실성을 위해 cost, impressions, clicks, conversions가 논리적으로 연결되게 만듦\n",
    "    actual_cost = np.random.randint(50000, 5000000, 1)[0]\n",
    "    impressions = np.random.randint(actual_cost // 100, actual_cost // 10, 1)[0] # 비용 대비 노출\n",
    "    clicks = int(impressions * np.random.uniform(0.01, 0.05)) # 노출 대비 클릭 (CTR 1~5%)\n",
    "    conversions = int(clicks * np.random.uniform(0.005, 0.03)) # 클릭 대비 전환 (CVR 0.5~3%)\n",
    "    revenue = conversions * np.random.randint(30000, 60000, 1)[0] # 전환당 평균 매출\n",
    "    \n",
    "    performances.append({\n",
    "        'perf_id': i + 1,\n",
    "        'campaign_id': chosen_camp_id, # [중요] 3번 테이블의 ID\n",
    "        'inf_id': chosen_inf_id,      # [중요] 2번 테이블의 ID\n",
    "        'post_date': fake.date_between(start_date='-6m', end_date='today'),\n",
    "        'post_url': f'https://instagram.com/p/{fake.password(length=11)}',\n",
    "        'actual_cost': actual_cost,\n",
    "        'impressions': impressions,\n",
    "        'clicks': clicks,\n",
    "        'conversions': conversions,\n",
    "        'revenue': revenue,\n",
    "        'genai_comment_summary': f\"긍정 {random.randint(70, 95)}%. '{random.choice(['흡수력', '향기', '패키징', '광채'])}' 키워드 언급 다수.\"\n",
    "    })\n",
    "\n",
    "df_performance = pd.DataFrame(performances)\n",
    "\n",
    "print(\"\\n--- 모든 데이터 생성 완료! ---\")\n",
    "\n",
    "# --- 결과 확인 (각 DataFrame의 상위 5개 행 출력) ---\n",
    "print(\"\\n[Product_Master 샘플]\")\n",
    "print(df_products.head())\n",
    "print(\"\\n[Influencer_Master 샘플]\")\n",
    "print(df_influencers.head())\n",
    "print(\"\\n[Campaign_Master 샘플]\")\n",
    "print(df_campaigns.head())\n",
    "print(\"\\n[Campaign_Performance 샘플]\")\n",
    "print(df_performance.head())\n"
   ]
  },
  {
   "cell_type": "code",
   "execution_count": 7,
   "id": "f23b47f5",
   "metadata": {},
   "outputs": [
    {
     "name": "stdout",
     "output_type": "stream",
     "text": [
      "\n",
      "CSV 파일로 저장 완료!\n"
     ]
    }
   ],
   "source": [
    "# --- (선택) CSV 파일로 저장 ---\n",
    "df_products.to_csv('product_master.csv', index=False)\n",
    "df_influencers.to_csv('influencer_master.csv', index=False)\n",
    "df_campaigns.to_csv('campaign_master.csv', index=False)\n",
    "df_performance.to_csv('campaign_performance.csv', index=False)\n",
    "\n",
    "print(\"\\nCSV 파일로 저장 완료!\")"
   ]
  },
  {
   "cell_type": "code",
   "execution_count": null,
   "id": "24427e22",
   "metadata": {},
   "outputs": [],
   "source": []
  }
 ],
 "metadata": {
  "kernelspec": {
   "display_name": "llm_env",
   "language": "python",
   "name": "python3"
  },
  "language_info": {
   "codemirror_mode": {
    "name": "ipython",
    "version": 3
   },
   "file_extension": ".py",
   "mimetype": "text/x-python",
   "name": "python",
   "nbconvert_exporter": "python",
   "pygments_lexer": "ipython3",
   "version": "3.10.19"
  }
 },
 "nbformat": 4,
 "nbformat_minor": 5
}
