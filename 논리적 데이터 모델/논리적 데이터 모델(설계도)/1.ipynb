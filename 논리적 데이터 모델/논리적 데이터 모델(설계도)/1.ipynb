{
 "cells": [
  {
   "cell_type": "code",
   "execution_count": 1,
   "id": "45c4eb1f",
   "metadata": {},
   "outputs": [
    {
     "name": "stdout",
     "output_type": "stream",
     "text": [
      "\n",
      "--- 성공! ---\n",
      " 'database_relationships.md' 파일이 성공적으로 저장되었습니다.\n",
      " (이 Python 스크립트가 있는 동일한 폴더에 생성됩니다.)\n"
     ]
    }
   ],
   "source": [
    "# 1. 파일에 저장할 텍스트 내용을 정의합니다.\n",
    "# (여러 줄 텍스트는 \"\"\" (큰따옴표 3개)로 감싸면 됩니다.)\n",
    "\n",
    "relationship_summary_text = \"\"\"\n",
    "### 5. 관계(Relationship) 요약\n",
    "\n",
    "이 테이블들이 어떻게 연결되는지(관계)가 중요해.\n",
    "\n",
    "* `Influencer_Master` (1) : (N) `Campaign_Performance`\n",
    "    * (한 명의 인플루언서는 여러 개의 성과를 낼 수 있다)\n",
    "* `Campaign_Master` (1) : (N) `Campaign_Performance`\n",
    "    * (하나의 캠페인에는 여러 인플루언서의 성과가 포함된다)\n",
    "* `Product_Master` (1) : (N) `Campaign_Master`\n",
    "    * (하나의 제품으로 여러 캠페인을 진행할 수 있다)\n",
    "\n",
    "\"\"\"\n",
    "\n",
    "# 2. 이 텍스트를 'database_relationships.md' 라는 이름의 파일로 저장합니다.\n",
    "# (encoding='utf-8'은 한글이 깨지지 않게 해줍니다.)\n",
    "try:\n",
    "    with open('database_relationships.md', 'w', encoding='utf-8') as f:\n",
    "        f.write(relationship_summary_text)\n",
    "    \n",
    "    print(\"\\n--- 성공! ---\")\n",
    "    print(\" 'database_relationships.md' 파일이 성공적으로 저장되었습니다.\")\n",
    "    print(\" (이 Python 스크립트가 있는 동일한 폴더에 생성됩니다.)\")\n",
    "\n",
    "except Exception as e:\n",
    "    print(f\"\\n--- 오류 발생 ---\")\n",
    "    print(f\"파일 저장 중 오류가 발생했습니다: {e}\")"
   ]
  }
 ],
 "metadata": {
  "kernelspec": {
   "display_name": "llm_env",
   "language": "python",
   "name": "python3"
  },
  "language_info": {
   "codemirror_mode": {
    "name": "ipython",
    "version": 3
   },
   "file_extension": ".py",
   "mimetype": "text/x-python",
   "name": "python",
   "nbconvert_exporter": "python",
   "pygments_lexer": "ipython3",
   "version": "3.10.19"
  }
 },
 "nbformat": 4,
 "nbformat_minor": 5
}
